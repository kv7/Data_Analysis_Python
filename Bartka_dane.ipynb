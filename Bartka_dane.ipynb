{
 "cells": [
  {
   "cell_type": "code",
   "execution_count": 33,
   "metadata": {},
   "outputs": [],
   "source": [
    "import matplotlib.pyplot as plt\n",
    "import numpy as np\n",
    "import pandas as pd"
   ]
  },
  {
   "cell_type": "code",
   "execution_count": 34,
   "metadata": {},
   "outputs": [
    {
     "data": {
      "text/html": [
       "<div>\n",
       "<style scoped>\n",
       "    .dataframe tbody tr th:only-of-type {\n",
       "        vertical-align: middle;\n",
       "    }\n",
       "\n",
       "    .dataframe tbody tr th {\n",
       "        vertical-align: top;\n",
       "    }\n",
       "\n",
       "    .dataframe thead th {\n",
       "        text-align: right;\n",
       "    }\n",
       "</style>\n",
       "<table border=\"1\" class=\"dataframe\">\n",
       "  <thead>\n",
       "    <tr style=\"text-align: right;\">\n",
       "      <th></th>\n",
       "      <th>Time</th>\n",
       "      <th>IS-203 Pressure PSI</th>\n",
       "      <th>IS-203 Temperature C</th>\n",
       "    </tr>\n",
       "  </thead>\n",
       "  <tbody>\n",
       "    <tr>\n",
       "      <th>0</th>\n",
       "      <td>07/31/2012  06:19:05</td>\n",
       "      <td>13.23</td>\n",
       "      <td>27.07</td>\n",
       "    </tr>\n",
       "    <tr>\n",
       "      <th>1</th>\n",
       "      <td>07/31/2012  06:19:10</td>\n",
       "      <td>13.27</td>\n",
       "      <td>27.08</td>\n",
       "    </tr>\n",
       "    <tr>\n",
       "      <th>2</th>\n",
       "      <td>07/31/2012  06:19:15</td>\n",
       "      <td>13.26</td>\n",
       "      <td>27.09</td>\n",
       "    </tr>\n",
       "    <tr>\n",
       "      <th>3</th>\n",
       "      <td>07/31/2012  06:19:20</td>\n",
       "      <td>13.97</td>\n",
       "      <td>27.11</td>\n",
       "    </tr>\n",
       "    <tr>\n",
       "      <th>4</th>\n",
       "      <td>07/31/2012  06:19:25</td>\n",
       "      <td>13.21</td>\n",
       "      <td>27.12</td>\n",
       "    </tr>\n",
       "    <tr>\n",
       "      <th>5</th>\n",
       "      <td>07/31/2012  06:19:30</td>\n",
       "      <td>13.18</td>\n",
       "      <td>27.12</td>\n",
       "    </tr>\n",
       "    <tr>\n",
       "      <th>6</th>\n",
       "      <td>07/31/2012  06:19:35</td>\n",
       "      <td>13.19</td>\n",
       "      <td>27.13</td>\n",
       "    </tr>\n",
       "    <tr>\n",
       "      <th>7</th>\n",
       "      <td>07/31/2012  06:19:40</td>\n",
       "      <td>13.25</td>\n",
       "      <td>27.14</td>\n",
       "    </tr>\n",
       "    <tr>\n",
       "      <th>8</th>\n",
       "      <td>07/31/2012  06:19:45</td>\n",
       "      <td>13.24</td>\n",
       "      <td>27.14</td>\n",
       "    </tr>\n",
       "    <tr>\n",
       "      <th>9</th>\n",
       "      <td>07/31/2012  06:19:50</td>\n",
       "      <td>13.30</td>\n",
       "      <td>27.14</td>\n",
       "    </tr>\n",
       "  </tbody>\n",
       "</table>\n",
       "</div>"
      ],
      "text/plain": [
       "                   Time  IS-203 Pressure PSI  IS-203 Temperature C\n",
       "0  07/31/2012  06:19:05                13.23                 27.07\n",
       "1  07/31/2012  06:19:10                13.27                 27.08\n",
       "2  07/31/2012  06:19:15                13.26                 27.09\n",
       "3  07/31/2012  06:19:20                13.97                 27.11\n",
       "4  07/31/2012  06:19:25                13.21                 27.12\n",
       "5  07/31/2012  06:19:30                13.18                 27.12\n",
       "6  07/31/2012  06:19:35                13.19                 27.13\n",
       "7  07/31/2012  06:19:40                13.25                 27.14\n",
       "8  07/31/2012  06:19:45                13.24                 27.14\n",
       "9  07/31/2012  06:19:50                13.30                 27.14"
      ]
     },
     "execution_count": 34,
     "metadata": {},
     "output_type": "execute_result"
    }
   ],
   "source": [
    "df=pd.read_csv('1.csv', sep=',',header=0)\n",
    "df.head(10)"
   ]
  },
  {
   "cell_type": "code",
   "execution_count": 36,
   "metadata": {},
   "outputs": [
    {
     "data": {
      "text/plain": [
       "(7050, 3)"
      ]
     },
     "execution_count": 36,
     "metadata": {},
     "output_type": "execute_result"
    }
   ],
   "source": [
    "df.shape"
   ]
  },
  {
   "cell_type": "code",
   "execution_count": 37,
   "metadata": {},
   "outputs": [
    {
     "data": {
      "text/plain": [
       "Time                     object\n",
       "IS-203 Pressure PSI     float64\n",
       "IS-203 Temperature C    float64\n",
       "dtype: object"
      ]
     },
     "execution_count": 37,
     "metadata": {},
     "output_type": "execute_result"
    }
   ],
   "source": [
    "df.dtypes"
   ]
  },
  {
   "cell_type": "code",
   "execution_count": 35,
   "metadata": {},
   "outputs": [
    {
     "data": {
      "text/html": [
       "<div>\n",
       "<style scoped>\n",
       "    .dataframe tbody tr th:only-of-type {\n",
       "        vertical-align: middle;\n",
       "    }\n",
       "\n",
       "    .dataframe tbody tr th {\n",
       "        vertical-align: top;\n",
       "    }\n",
       "\n",
       "    .dataframe thead th {\n",
       "        text-align: right;\n",
       "    }\n",
       "</style>\n",
       "<table border=\"1\" class=\"dataframe\">\n",
       "  <thead>\n",
       "    <tr style=\"text-align: right;\">\n",
       "      <th></th>\n",
       "      <th>IS-203 Pressure PSI</th>\n",
       "      <th>IS-203 Temperature C</th>\n",
       "    </tr>\n",
       "  </thead>\n",
       "  <tbody>\n",
       "    <tr>\n",
       "      <th>count</th>\n",
       "      <td>7050.000000</td>\n",
       "      <td>7050.000000</td>\n",
       "    </tr>\n",
       "    <tr>\n",
       "      <th>mean</th>\n",
       "      <td>840.323891</td>\n",
       "      <td>62.480780</td>\n",
       "    </tr>\n",
       "    <tr>\n",
       "      <th>std</th>\n",
       "      <td>392.069874</td>\n",
       "      <td>14.678194</td>\n",
       "    </tr>\n",
       "    <tr>\n",
       "      <th>min</th>\n",
       "      <td>13.180000</td>\n",
       "      <td>27.070000</td>\n",
       "    </tr>\n",
       "    <tr>\n",
       "      <th>25%</th>\n",
       "      <td>954.997500</td>\n",
       "      <td>57.922500</td>\n",
       "    </tr>\n",
       "    <tr>\n",
       "      <th>50%</th>\n",
       "      <td>1000.700000</td>\n",
       "      <td>71.200000</td>\n",
       "    </tr>\n",
       "    <tr>\n",
       "      <th>75%</th>\n",
       "      <td>1031.330000</td>\n",
       "      <td>71.940000</td>\n",
       "    </tr>\n",
       "    <tr>\n",
       "      <th>max</th>\n",
       "      <td>1198.760000</td>\n",
       "      <td>72.080000</td>\n",
       "    </tr>\n",
       "  </tbody>\n",
       "</table>\n",
       "</div>"
      ],
      "text/plain": [
       "       IS-203 Pressure PSI  IS-203 Temperature C\n",
       "count          7050.000000           7050.000000\n",
       "mean            840.323891             62.480780\n",
       "std             392.069874             14.678194\n",
       "min              13.180000             27.070000\n",
       "25%             954.997500             57.922500\n",
       "50%            1000.700000             71.200000\n",
       "75%            1031.330000             71.940000\n",
       "max            1198.760000             72.080000"
      ]
     },
     "execution_count": 35,
     "metadata": {},
     "output_type": "execute_result"
    }
   ],
   "source": [
    "df.describe()"
   ]
  },
  {
   "cell_type": "code",
   "execution_count": 38,
   "metadata": {},
   "outputs": [
    {
     "data": {
      "image/png": "[encoded data removed]",
      "text/plain": [
       "<Figure size 432x288 with 1 Axes>"
      ]
     },
     "metadata": {},
     "output_type": "display_data"
    }
   ],
   "source": [
    "ax = plt.gca()\n",
    "\n",
    "df.plot(kind='line',x='Time',y='IS-203 Pressure PSI',ax=ax)\n",
    "df.plot(kind='line',x='Time',y='IS-203 Temperature C', color='red', ax=ax)\n",
    "\n",
    "plt.show()"
   ]
  },
  {
   "cell_type": "code",
   "execution_count": 133,
   "metadata": {},
   "outputs": [
    {
     "data": {
      "image/png": "[encoded data removed]",
      "text/plain": [
       "<Figure size 432x288 with 1 Axes>"
      ]
     },
     "metadata": {},
     "output_type": "display_data"
    }
   ],
   "source": [
    "ax = plt.gca()\n",
    "df.plot(kind='line',x='Time',y='IS-203 Temperature C',ax=ax)\n",
    "plt.show()"
   ]
  },
  {
   "cell_type": "code",
   "execution_count": 39,
   "metadata": {},
   "outputs": [
    {
     "data": {
      "text/html": [
       "<div>\n",
       "<style scoped>\n",
       "    .dataframe tbody tr th:only-of-type {\n",
       "        vertical-align: middle;\n",
       "    }\n",
       "\n",
       "    .dataframe tbody tr th {\n",
       "        vertical-align: top;\n",
       "    }\n",
       "\n",
       "    .dataframe thead th {\n",
       "        text-align: right;\n",
       "    }\n",
       "</style>\n",
       "<table border=\"1\" class=\"dataframe\">\n",
       "  <thead>\n",
       "    <tr style=\"text-align: right;\">\n",
       "      <th></th>\n",
       "      <th>Time</th>\n",
       "      <th>IS-203 Pressure PSI</th>\n",
       "      <th>IS-203 Temperature C</th>\n",
       "      <th>dPSI</th>\n",
       "      <th>dTemp</th>\n",
       "    </tr>\n",
       "  </thead>\n",
       "  <tbody>\n",
       "    <tr>\n",
       "      <th>0</th>\n",
       "      <td>07/31/2012  06:19:05</td>\n",
       "      <td>13.23</td>\n",
       "      <td>27.07</td>\n",
       "      <td>NaN</td>\n",
       "      <td>NaN</td>\n",
       "    </tr>\n",
       "    <tr>\n",
       "      <th>1</th>\n",
       "      <td>07/31/2012  06:19:10</td>\n",
       "      <td>13.27</td>\n",
       "      <td>27.08</td>\n",
       "      <td>0.04</td>\n",
       "      <td>0.01</td>\n",
       "    </tr>\n",
       "    <tr>\n",
       "      <th>2</th>\n",
       "      <td>07/31/2012  06:19:15</td>\n",
       "      <td>13.26</td>\n",
       "      <td>27.09</td>\n",
       "      <td>-0.01</td>\n",
       "      <td>0.01</td>\n",
       "    </tr>\n",
       "    <tr>\n",
       "      <th>3</th>\n",
       "      <td>07/31/2012  06:19:20</td>\n",
       "      <td>13.97</td>\n",
       "      <td>27.11</td>\n",
       "      <td>0.71</td>\n",
       "      <td>0.02</td>\n",
       "    </tr>\n",
       "    <tr>\n",
       "      <th>4</th>\n",
       "      <td>07/31/2012  06:19:25</td>\n",
       "      <td>13.21</td>\n",
       "      <td>27.12</td>\n",
       "      <td>-0.76</td>\n",
       "      <td>0.01</td>\n",
       "    </tr>\n",
       "  </tbody>\n",
       "</table>\n",
       "</div>"
      ],
      "text/plain": [
       "                   Time  IS-203 Pressure PSI  IS-203 Temperature C  dPSI  \\\n",
       "0  07/31/2012  06:19:05                13.23                 27.07   NaN   \n",
       "1  07/31/2012  06:19:10                13.27                 27.08  0.04   \n",
       "2  07/31/2012  06:19:15                13.26                 27.09 -0.01   \n",
       "3  07/31/2012  06:19:20                13.97                 27.11  0.71   \n",
       "4  07/31/2012  06:19:25                13.21                 27.12 -0.76   \n",
       "\n",
       "   dTemp  \n",
       "0    NaN  \n",
       "1   0.01  \n",
       "2   0.01  \n",
       "3   0.02  \n",
       "4   0.01  "
      ]
     },
     "execution_count": 39,
     "metadata": {},
     "output_type": "execute_result"
    }
   ],
   "source": [
    "df[\"dPSI\"] = df[\"IS-203 Pressure PSI\"].diff()\n",
    "df[\"dTemp\"] = df[\"IS-203 Temperature C\"].diff()\n",
    "df.head()"
   ]
  },
  {
   "cell_type": "code",
   "execution_count": 40,
   "metadata": {},
   "outputs": [
    {
     "data": {
      "text/html": [
       "<div>\n",
       "<style scoped>\n",
       "    .dataframe tbody tr th:only-of-type {\n",
       "        vertical-align: middle;\n",
       "    }\n",
       "\n",
       "    .dataframe tbody tr th {\n",
       "        vertical-align: top;\n",
       "    }\n",
       "\n",
       "    .dataframe thead th {\n",
       "        text-align: right;\n",
       "    }\n",
       "</style>\n",
       "<table border=\"1\" class=\"dataframe\">\n",
       "  <thead>\n",
       "    <tr style=\"text-align: right;\">\n",
       "      <th></th>\n",
       "      <th>IS-203 Pressure PSI</th>\n",
       "      <th>IS-203 Temperature C</th>\n",
       "      <th>dPSI</th>\n",
       "      <th>dTemp</th>\n",
       "    </tr>\n",
       "  </thead>\n",
       "  <tbody>\n",
       "    <tr>\n",
       "      <th>count</th>\n",
       "      <td>7050.000000</td>\n",
       "      <td>7050.000000</td>\n",
       "      <td>7049.000000</td>\n",
       "      <td>7049.000000</td>\n",
       "    </tr>\n",
       "    <tr>\n",
       "      <th>mean</th>\n",
       "      <td>840.323891</td>\n",
       "      <td>62.480780</td>\n",
       "      <td>0.000004</td>\n",
       "      <td>0.000035</td>\n",
       "    </tr>\n",
       "    <tr>\n",
       "      <th>std</th>\n",
       "      <td>392.069874</td>\n",
       "      <td>14.678194</td>\n",
       "      <td>4.416750</td>\n",
       "      <td>0.029599</td>\n",
       "    </tr>\n",
       "    <tr>\n",
       "      <th>min</th>\n",
       "      <td>13.180000</td>\n",
       "      <td>27.070000</td>\n",
       "      <td>-90.430000</td>\n",
       "      <td>-0.230000</td>\n",
       "    </tr>\n",
       "    <tr>\n",
       "      <th>25%</th>\n",
       "      <td>954.997500</td>\n",
       "      <td>57.922500</td>\n",
       "      <td>-0.100000</td>\n",
       "      <td>-0.010000</td>\n",
       "    </tr>\n",
       "    <tr>\n",
       "      <th>50%</th>\n",
       "      <td>1000.700000</td>\n",
       "      <td>71.200000</td>\n",
       "      <td>0.060000</td>\n",
       "      <td>0.000000</td>\n",
       "    </tr>\n",
       "    <tr>\n",
       "      <th>75%</th>\n",
       "      <td>1031.330000</td>\n",
       "      <td>71.940000</td>\n",
       "      <td>0.310000</td>\n",
       "      <td>0.010000</td>\n",
       "    </tr>\n",
       "    <tr>\n",
       "      <th>max</th>\n",
       "      <td>1198.760000</td>\n",
       "      <td>72.080000</td>\n",
       "      <td>182.950000</td>\n",
       "      <td>0.190000</td>\n",
       "    </tr>\n",
       "  </tbody>\n",
       "</table>\n",
       "</div>"
      ],
      "text/plain": [
       "       IS-203 Pressure PSI  IS-203 Temperature C         dPSI        dTemp\n",
       "count          7050.000000           7050.000000  7049.000000  7049.000000\n",
       "mean            840.323891             62.480780     0.000004     0.000035\n",
       "std             392.069874             14.678194     4.416750     0.029599\n",
       "min              13.180000             27.070000   -90.430000    -0.230000\n",
       "25%             954.997500             57.922500    -0.100000    -0.010000\n",
       "50%            1000.700000             71.200000     0.060000     0.000000\n",
       "75%            1031.330000             71.940000     0.310000     0.010000\n",
       "max            1198.760000             72.080000   182.950000     0.190000"
      ]
     },
     "execution_count": 40,
     "metadata": {},
     "output_type": "execute_result"
    }
   ],
   "source": [
    "df.describe()"
   ]
  },
  {
   "cell_type": "code",
   "execution_count": 29,
   "metadata": {},
   "outputs": [
    {
     "data": {
      "image/png": "[encoded data removed]",
      "text/plain": [
       "<Figure size 432x288 with 1 Axes>"
      ]
     },
     "metadata": {},
     "output_type": "display_data"
    }
   ],
   "source": [
    "ax = plt.gca()\n",
    "\n",
    "#df2.plot(kind='line',x='Time',y='dPSI',ax=ax)\n",
    "df2.plot(kind='line',x='Time',y='dTemp', color='red', ax=ax)\n",
    "\n",
    "plt.show()"
   ]
  },
  {
   "cell_type": "code",
   "execution_count": null,
   "metadata": {},
   "outputs": [],
   "source": []
  }
 ],
 "metadata": {
  "kernelspec": {
   "display_name": "Python 3",
   "language": "python",
   "name": "python3"
  },
  "language_info": {
   "codemirror_mode": {
    "name": "ipython",
    "version": 3
   },
   "file_extension": ".py",
   "mimetype": "text/x-python",
   "name": "python",
   "nbconvert_exporter": "python",
   "pygments_lexer": "ipython3",
   "version": "3.6.5"
  }
 },
 "nbformat": 4,
 "nbformat_minor": 2
}
